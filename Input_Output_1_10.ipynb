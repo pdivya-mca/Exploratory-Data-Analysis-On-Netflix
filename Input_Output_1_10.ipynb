{
  "nbformat": 4,
  "nbformat_minor": 0,
  "metadata": {
    "colab": {
      "provenance": [],
      "authorship_tag": "ABX9TyPFm87BQHXPWQ5h+nuYMCHd",
      "include_colab_link": true
    },
    "kernelspec": {
      "name": "python3",
      "display_name": "Python 3"
    },
    "language_info": {
      "name": "python"
    }
  },
  "cells": [
    {
      "cell_type": "markdown",
      "metadata": {
        "id": "view-in-github",
        "colab_type": "text"
      },
      "source": [
        "<a href=\"https://colab.research.google.com/github/pdivya-mca/Exploratory-Data-Analysis-On-Netflix/blob/main/Input_Output_1_10.ipynb\" target=\"_parent\"><img src=\"https://colab.research.google.com/assets/colab-badge.svg\" alt=\"Open In Colab\"/></a>"
      ]
    },
    {
      "cell_type": "markdown",
      "source": [
        "### **GUVI CODEKATA Question 1 to 10**"
      ],
      "metadata": {
        "id": "7q9isvbWzfXX"
      }
    },
    {
      "cell_type": "markdown",
      "source": [
        "Write a code to get the input in the given format and print the output in the given format"
      ],
      "metadata": {
        "id": "PB_mmMpvzQcT"
      }
    },
    {
      "cell_type": "code",
      "execution_count": 1,
      "metadata": {
        "colab": {
          "base_uri": "https://localhost:8080/"
        },
        "id": "VcJ0YlCZwvia",
        "outputId": "7e6daccc-0c0c-4d51-ed2c-98e58bd9201f"
      },
      "outputs": [
        {
          "output_type": "stream",
          "name": "stdout",
          "text": [
            "2\n",
            "2\n"
          ]
        }
      ],
      "source": [
        "# Question 1\n",
        "a=int(input())\n",
        "print(a)"
      ]
    },
    {
      "cell_type": "markdown",
      "source": [
        "Write a code to get the input in the given format and print the output in the given format"
      ],
      "metadata": {
        "id": "Rqm0V7urzS44"
      }
    },
    {
      "cell_type": "code",
      "source": [
        "# Question 2\n",
        "a=input().split()\n",
        "b=map(int,a)\n",
        "print(*b)"
      ],
      "metadata": {
        "colab": {
          "base_uri": "https://localhost:8080/"
        },
        "id": "3xdURZNzxIew",
        "outputId": "6c771b3c-9697-4f07-9b5c-205f76694c02"
      },
      "execution_count": 2,
      "outputs": [
        {
          "output_type": "stream",
          "name": "stdout",
          "text": [
            "2 3 4 5 6 7 8\n",
            "2 3 4 5 6 7 8\n"
          ]
        }
      ]
    },
    {
      "cell_type": "markdown",
      "source": [
        "Write a code to get the input in the given format and print the output in the given format"
      ],
      "metadata": {
        "id": "oKPDl9yVzULu"
      }
    },
    {
      "cell_type": "code",
      "source": [
        "# Question 3\n",
        "a=input().split()\n",
        "b=input().split()\n",
        "\n",
        "d=map(int,a)\n",
        "e=map(int,b)\n",
        "\n",
        "print(*a)\n",
        "print(*b)"
      ],
      "metadata": {
        "colab": {
          "base_uri": "https://localhost:8080/"
        },
        "id": "CAso2N1oxS1G",
        "outputId": "b450a1d9-a0cc-4b3f-990e-6956f02fe701"
      },
      "execution_count": 3,
      "outputs": [
        {
          "output_type": "stream",
          "name": "stdout",
          "text": [
            "5 3\n",
            "1 2 3 4 5\n",
            "5 3\n",
            "1 2 3 4 5\n"
          ]
        }
      ]
    },
    {
      "cell_type": "markdown",
      "source": [
        "Write a code to get the input in the given format and print the output in the given format"
      ],
      "metadata": {
        "id": "Wrt6S5-fzVz3"
      }
    },
    {
      "cell_type": "code",
      "source": [
        "#Question 4\n",
        "a=input().split()\n",
        "b=input().split()\n",
        "c=input().split()\n",
        "\n",
        "d=map(int,a)\n",
        "e=map(int,b)\n",
        "f=map(int,c)\n",
        "\n",
        "print(*a)\n",
        "print(*b)\n",
        "print(*c)\n",
        "\n"
      ],
      "metadata": {
        "colab": {
          "base_uri": "https://localhost:8080/"
        },
        "id": "GDI5IEJaxgM_",
        "outputId": "f918fd42-6e3d-4fbf-ac19-ac81e8c4be28"
      },
      "execution_count": 4,
      "outputs": [
        {
          "output_type": "stream",
          "name": "stdout",
          "text": [
            "2 4\n",
            "2 4\n",
            "2 4\n",
            "2 4\n",
            "2 4\n",
            "2 4\n"
          ]
        }
      ]
    },
    {
      "cell_type": "markdown",
      "source": [
        "Write a code to get the input in the given format and print the output in the given format"
      ],
      "metadata": {
        "id": "SuXdBSjczX4n"
      }
    },
    {
      "cell_type": "code",
      "source": [
        "#Question 5\n",
        "a=input().split()\n",
        "b=input().split()\n",
        "c=input().split()\n",
        "\n",
        "d=map(int,a)\n",
        "e=map(int,b)\n",
        "f=map(int,c)\n",
        "\n",
        "print(*d,*e,*f)"
      ],
      "metadata": {
        "colab": {
          "base_uri": "https://localhost:8080/"
        },
        "id": "FGt3UiQZxshn",
        "outputId": "d39f78a5-77c1-47a8-8480-58762f998550"
      },
      "execution_count": 5,
      "outputs": [
        {
          "output_type": "stream",
          "name": "stdout",
          "text": [
            "2\n",
            "4\n",
            "5\n",
            "2 4 5\n"
          ]
        }
      ]
    },
    {
      "cell_type": "markdown",
      "source": [
        "Write a code to get the input in the given format and print the output in the given format"
      ],
      "metadata": {
        "id": "HLfC9xEAzHNf"
      }
    },
    {
      "cell_type": "code",
      "source": [
        "#Question 6\n",
        "a=input().split()\n",
        "b=input().split()\n",
        "c=input().split()\n",
        "\n",
        "d=map(int,a)\n",
        "e=map(int,b)\n",
        "f=map(int,c)\n",
        "\n",
        "print(*a)\n",
        "print(*b)\n",
        "print(*c)"
      ],
      "metadata": {
        "colab": {
          "base_uri": "https://localhost:8080/"
        },
        "id": "e7PdGEkHx4eP",
        "outputId": "62bbddd8-7c9a-465b-ead8-62d4b1ebadc8"
      },
      "execution_count": 6,
      "outputs": [
        {
          "output_type": "stream",
          "name": "stdout",
          "text": [
            "2 5\n",
            "2 5 6\n",
            "2 4 5\n",
            "2 5\n",
            "2 5 6\n",
            "2 4 5\n"
          ]
        }
      ]
    },
    {
      "cell_type": "markdown",
      "source": [
        "Write a code to get the input in the given format and print the output in the given format"
      ],
      "metadata": {
        "id": "jEW8Doiiy_8I"
      }
    },
    {
      "cell_type": "code",
      "source": [
        "#Question 7\n",
        "a=input()\n",
        "b=list(map(str,a))\n",
        "\n",
        "print(*b)"
      ],
      "metadata": {
        "colab": {
          "base_uri": "https://localhost:8080/"
        },
        "id": "WcNSPbp7yFVW",
        "outputId": "199c610e-f64c-44b6-a061-8d762911a047"
      },
      "execution_count": 7,
      "outputs": [
        {
          "output_type": "stream",
          "name": "stdout",
          "text": [
            "guvi\n",
            "g u v i\n"
          ]
        }
      ]
    },
    {
      "cell_type": "markdown",
      "source": [
        "Write a code to get the input in the given format and print the output in the given format."
      ],
      "metadata": {
        "id": "82i1sFYPy8Tn"
      }
    },
    {
      "cell_type": "code",
      "source": [
        "#Question 8\n",
        "a=input().split()\n",
        "for i in a:\n",
        "  print(i)"
      ],
      "metadata": {
        "colab": {
          "base_uri": "https://localhost:8080/"
        },
        "id": "cnkr5KVSyQHo",
        "outputId": "7faf353a-e682-4fc2-dea9-7cdebe5628f7"
      },
      "execution_count": 8,
      "outputs": [
        {
          "output_type": "stream",
          "name": "stdout",
          "text": [
            "2.3 4.5 7.8\n",
            "2.3\n",
            "4.5\n",
            "7.8\n"
          ]
        }
      ]
    },
    {
      "cell_type": "markdown",
      "source": [
        "Write a code to get the input in the given format and print the output in the given format."
      ],
      "metadata": {
        "id": "e0PtEzhWy2eJ"
      }
    },
    {
      "cell_type": "code",
      "source": [
        "#Question 9\n",
        "s=input()\n",
        "for i in s:\n",
        "    print(i)"
      ],
      "metadata": {
        "colab": {
          "base_uri": "https://localhost:8080/"
        },
        "id": "3inuX9TkyYn2",
        "outputId": "ac7f1629-ba28-4e4e-b4cb-cfd8fc380ccd"
      },
      "execution_count": 9,
      "outputs": [
        {
          "output_type": "stream",
          "name": "stdout",
          "text": [
            "guvigeek\n",
            "g\n",
            "u\n",
            "v\n",
            "i\n",
            "g\n",
            "e\n",
            "e\n",
            "k\n"
          ]
        }
      ]
    },
    {
      "cell_type": "markdown",
      "source": [
        "Write a code to get the input in the given format and print the output in the given format."
      ],
      "metadata": {
        "id": "zY4TB6X2yuz3"
      }
    },
    {
      "cell_type": "code",
      "source": [
        "#Question 10\n",
        "a=input()\n",
        "b=list(map(str,a))\n",
        "print(*b,sep=\",\")\n"
      ],
      "metadata": {
        "colab": {
          "base_uri": "https://localhost:8080/"
        },
        "id": "SLVaGMedyjJO",
        "outputId": "a0e17472-e3f7-454f-ba1f-1cdd891d32b4"
      },
      "execution_count": 10,
      "outputs": [
        {
          "output_type": "stream",
          "name": "stdout",
          "text": [
            "guvi\n",
            "g,u,v,i\n"
          ]
        }
      ]
    }
  ]
}